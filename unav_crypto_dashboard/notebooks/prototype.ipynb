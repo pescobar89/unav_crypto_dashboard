{
 "cells": [
  {
   "cell_type": "code",
   "execution_count": 1,
   "id": "b27531d5-c683-4393-a23b-8fccbfa33900",
   "metadata": {},
   "outputs": [],
   "source": [
    "import datetime as dt\n",
    "import time\n",
    "import re\n",
    "\n",
    "\n",
    "class Utils:\n",
    "    \n",
    "    def __init__(self):\n",
    "        pass\n",
    "    \n",
    "    @staticmethod\n",
    "    def date_formats(date):\n",
    "        # Comprobamos el formato de la fecha string de entrada\n",
    "#         pattern = re.compile(r'\\d{4}\\-[0-1]\\d\\-[0-3]\\d\\s[0-2]\\d\\:[0-5]\\d\\:[0-5]\\d') # Mejorable, quizas mejor hacerlo en la conversion a datetime\n",
    "        date_string = date\n",
    "        date_list = re.split('-| |:', date)\n",
    "        date_datetime = dt.datetime(*[int(x) for x in date_list], tzinfo=dt.timezone.utc) # Mirar meter un try/except\n",
    "        date_unix = int(time.mktime(date_datetime.timetuple()))\n",
    "        formats = {'string': date_string, 'list': date_list, 'datetime': date_datetime, 'unix': date_unix}\n",
    "        return(formats)"
   ]
  },
  {
   "cell_type": "code",
   "execution_count": 2,
   "id": "36fc6609-3d21-45fc-b521-74bc3917c2b2",
   "metadata": {},
   "outputs": [],
   "source": [
    "import krakenex\n",
    "from pykrakenapi import KrakenAPI\n",
    "# from ______ import Utils\n",
    "import numpy as np\n",
    "import time\n",
    "\n",
    "\n",
    "class Downloader:\n",
    "    \n",
    "    def __init__(self, API=KrakenAPI(krakenex.API())):\n",
    "        self.API = API\n",
    "        self.data = {}\n",
    "    \n",
    "    def download_split_historic(self, pair, dt_from):\n",
    "        # Obtenemos los 1000 registro desde la fecha indicada\n",
    "        trades, last = self.API.get_recent_trades(pair, dt_from)\n",
    "        # Ordenamos por fecha\n",
    "        trades = trades.sort_values('time', ascending=False)\n",
    "        trades = trades.reset_index()\n",
    "        # Obtenemos primero y ultimo\n",
    "        first = trades['time'].iloc[-1]\n",
    "        last = trades['time'].iloc[0]\n",
    "        return({'first': first, 'last': last, 'trades': trades})\n",
    "        \n",
    "    def download_fromto_historic(self, pair, dt_from, dt_to):\n",
    "        data_pair = []\n",
    "        # Inicializamos while para descargar fromto historico\n",
    "        from_dynamic = dt_from\n",
    "        while from_dynamic<=dt_to:\n",
    "            split = self.download_split_historic(pair, from_dynamic)\n",
    "            data_pair.append(split)\n",
    "            from_dynamic = split['last']\n",
    "            print('Descargado de '+str(split['trades']['dtime'].iloc[-1])+' a '+str(split['trades']['dtime'].iloc[0]))\n",
    "            # Dormimos la descarga\n",
    "            time.sleep(np.random.uniform(1,2))\n",
    "        # Guardamos el acumulado en el atributo de clase data\n",
    "        self.data[pair] = data_pair"
   ]
  },
  {
   "cell_type": "code",
   "execution_count": 3,
   "id": "00062fde-09cf-4962-abea-fa91d6e5ea0b",
   "metadata": {},
   "outputs": [],
   "source": [
    "import pandas as pd\n",
    "\n",
    "\n",
    "class Wrangler:\n",
    "    \n",
    "    def __init__(self):\n",
    "        pass\n",
    "    \n",
    "    def get_clean_data(self, raw_data):\n",
    "        clean_data = {}\n",
    "        # Iteramos sobre los pares en raw_data y consolidamos un dataframe\n",
    "        for k, v in raw_data.items():\n",
    "            pair_data = pd.concat([x['trades'] for x in v])\n",
    "            pair_data = pair_data.drop_duplicates()\n",
    "            pair_data = pair_data[['dtime', 'time', 'price', 'volume']]\n",
    "            pair_data = pair_data.sort_values('time', ascending=False)\n",
    "            clean_data[k] = pair_data\n",
    "        return(clean_data)"
   ]
  },
  {
   "cell_type": "code",
   "execution_count": 4,
   "id": "57a6d728-0f43-439b-8449-d8dec29e66fb",
   "metadata": {},
   "outputs": [],
   "source": [
    "class Calculator:\n",
    "    \n",
    "    def __init__(self, data):\n",
    "        self.data = {}\n",
    "        self.data['original'] = data\n",
    "\n",
    "    def compute_price(self, price='price', volume='volume', time=['dtime', 'time']):\n",
    "        price_data = self.data['original'].copy()\n",
    "        # Calculamos precio por volumen\n",
    "        price_data[price+'_x_'+volume] = price_data[price]*price_data[volume]\n",
    "        # Agregamos\n",
    "        pxv = price+'_x_'+volume\n",
    "        d = {volume: np.sum, pxv: np.sum}\n",
    "        price_data = price_data.groupby(time).agg(d)\n",
    "        # Recalculamos el precio\n",
    "        price_data[price] = price_data[pxv]/price_data[volume]\n",
    "        # Seleccionamos las variables\n",
    "        price_data = price_data[[price, volume]].reset_index()\n",
    "        # Guardamos\n",
    "        self.data['price'] = price_data       \n",
    "        \n",
    "    def compute_vwap(self, price='price', volume='volume', time=['dtime', 'time'], minutes_interval=15):\n",
    "        vwap_data = self.data['original'].copy()\n",
    "        # Generamos los bins \n",
    "        seconds = minutes_interval*60\n",
    "        min_period = int(np.floor(min(vwap_data['time']/seconds))*seconds-seconds)\n",
    "        max_period = int(np.ceil(max(vwap_data['time']/seconds))*seconds+seconds)\n",
    "        bins = list(range(min_period, max_period, seconds))\n",
    "        vwap_data['new_time'] = pd.cut(vwap_data[time[1]], bins=bins)\n",
    "        # Calculamos precio por volumen\n",
    "        vwap_data[price+'_x_'+volume] = vwap_data[price]*vwap_data[volume]\n",
    "        # Agregamos\n",
    "        pxv = price+'_x_'+volume\n",
    "        d = {volume: np.sum, pxv: np.sum}\n",
    "        vwap_data = vwap_data.groupby('new_time').agg(d)\n",
    "        # Recalculamos el precio\n",
    "        vwap_data[price] = vwap_data[pxv]/vwap_data[volume]\n",
    "        # Reteamos indice y eliminamos nas\n",
    "        vwap_data = vwap_data[[price, volume]].reset_index()\n",
    "        # Formateamos la fecha\n",
    "        vwap_data['time'] = [int(x[-11:-1]) for x in vwap_data['new_time'].astype(str)]\n",
    "        vwap_data['dtime'] = [dt.datetime.utcfromtimestamp(x).strftime('%Y-%m-%d %H:%M:%S') for x in vwap_data['time']]\n",
    "        # Aseguramos el orden por fecha \n",
    "        vwap_data = vwap_data.sort_values('time', ascending=True)\n",
    "        # Rellenamos los precios vacios\n",
    "        vwap_data['price'] = vwap_data['price'].fillna(method='ffill')\n",
    "        vwap_data['price'] = vwap_data['price'].fillna(method='bfill')\n",
    "        # Ordenamos variables\n",
    "        vwap_data = vwap_data[time+[price, volume]]\n",
    "        # Guardamos\n",
    "        self.data['vwap'] = vwap_data"
   ]
  },
  {
   "cell_type": "code",
   "execution_count": 5,
   "id": "4478b70e-ba3d-45dd-91f9-e743e57c34e3",
   "metadata": {},
   "outputs": [],
   "source": [
    "# dt_from = '2020-11-01 01:25:17'\n",
    "# Utils.date_formats(dt_from)"
   ]
  },
  {
   "cell_type": "code",
   "execution_count": 6,
   "id": "f1c55a40-bc5c-4f0f-aea6-c3e2397fff85",
   "metadata": {},
   "outputs": [
    {
     "name": "stdout",
     "output_type": "stream",
     "text": [
      "Descargado de 2021-09-30 22:01:56.311099904 a 2021-10-01 10:29:18.337799936\n",
      "Descargado de 2021-10-01 10:29:18.098700032 a 2021-10-01 12:46:41.971399936\n",
      "Descargado de 2021-10-01 12:46:41.971399936 a 2021-10-02 14:47:49.193200128\n"
     ]
    }
   ],
   "source": [
    "pair = \"BCHUSD\"\n",
    "dt_from = Utils.date_formats('2021-10-01 00:00:00')\n",
    "dt_to = Utils.date_formats('2021-10-02 00:00:00')\n",
    "# Generamos los formatos para las fechas \n",
    "d = Downloader()\n",
    "# aux = d.download_split_historic(pair, dt_from['unix'])\n",
    "d.download_fromto_historic(pair, dt_from['unix'], dt_to['unix'])"
   ]
  },
  {
   "cell_type": "code",
   "execution_count": 7,
   "id": "c6409253-94a4-446a-9282-8972419a8335",
   "metadata": {},
   "outputs": [],
   "source": [
    "w = Wrangler()\n",
    "trades = w.get_clean_data(d.data)"
   ]
  },
  {
   "cell_type": "code",
   "execution_count": 8,
   "id": "770b75a6-c80c-40f6-a3ac-3d271431b04a",
   "metadata": {},
   "outputs": [],
   "source": [
    "c = Calculator(trades[pair])\n",
    "c.compute_price()\n",
    "c.compute_vwap()"
   ]
  },
  {
   "cell_type": "code",
   "execution_count": 9,
   "id": "c0f2d6d4-4977-459f-b6f8-7f0e8aee670b",
   "metadata": {},
   "outputs": [
    {
     "data": {
      "text/plain": [
       "{'original':                             dtime          time   price    volume\n",
       " 0   2021-10-02 14:47:49.193200128  1.633186e+09  549.79  0.274112\n",
       " 1   2021-10-02 14:47:49.176100096  1.633186e+09  549.79  0.274131\n",
       " 2   2021-10-02 14:45:29.279800064  1.633186e+09  549.78  5.000000\n",
       " 3   2021-10-02 14:41:05.274899968  1.633186e+09  549.37  0.378434\n",
       " 4   2021-10-02 14:39:25.826600192  1.633186e+09  549.14  0.063505\n",
       " ..                            ...           ...     ...       ...\n",
       " 995 2021-09-30 22:07:30.520800000  1.633040e+09  500.85  2.424802\n",
       " 996 2021-09-30 22:04:41.415200000  1.633039e+09  500.85  0.855198\n",
       " 997 2021-09-30 22:04:14.451899904  1.633039e+09  500.86  1.000000\n",
       " 998 2021-09-30 22:02:20.607000064  1.633039e+09  500.69  0.599000\n",
       " 999 2021-09-30 22:01:56.311099904  1.633039e+09  501.30  2.390000\n",
       " \n",
       " [2996 rows x 4 columns],\n",
       " 'price':                              dtime          time   price    volume\n",
       " 0    2021-09-30 22:01:56.311099904  1.633039e+09  501.30  2.390000\n",
       " 1    2021-09-30 22:02:20.607000064  1.633039e+09  500.69  0.599000\n",
       " 2    2021-09-30 22:04:14.451899904  1.633039e+09  500.86  1.000000\n",
       " 3    2021-09-30 22:04:41.415200000  1.633039e+09  500.85  0.855198\n",
       " 4    2021-09-30 22:07:30.520800000  1.633040e+09  500.85  2.424802\n",
       " ...                            ...           ...     ...       ...\n",
       " 2991 2021-10-02 14:39:25.826600192  1.633186e+09  549.14  0.063505\n",
       " 2992 2021-10-02 14:41:05.274899968  1.633186e+09  549.37  0.378434\n",
       " 2993 2021-10-02 14:45:29.279800064  1.633186e+09  549.78  5.000000\n",
       " 2994 2021-10-02 14:47:49.176100096  1.633186e+09  549.79  0.274131\n",
       " 2995 2021-10-02 14:47:49.193200128  1.633186e+09  549.79  0.274112\n",
       " \n",
       " [2996 rows x 4 columns],\n",
       " 'vwap':                    dtime        time       price     volume\n",
       " 0    2021-09-30 22:00:00  1633039200  500.916236   0.000000\n",
       " 1    2021-09-30 22:15:00  1633040100  500.916236  11.469000\n",
       " 2    2021-09-30 22:30:00  1633041000  501.420361   4.703263\n",
       " 3    2021-09-30 22:45:00  1633041900  501.425068  14.181333\n",
       " 4    2021-09-30 23:00:00  1633042800  500.142979   7.634615\n",
       " ..                   ...         ...         ...        ...\n",
       " 160  2021-10-02 14:00:00  1633183200  546.373149  46.597601\n",
       " 161  2021-10-02 14:15:00  1633184100  548.421512  29.053722\n",
       " 162  2021-10-02 14:30:00  1633185000  549.942741   3.174000\n",
       " 163  2021-10-02 14:45:00  1633185900  548.303397  33.840145\n",
       " 164  2021-10-02 15:00:00  1633186800  549.780988   5.548244\n",
       " \n",
       " [165 rows x 4 columns]}"
      ]
     },
     "execution_count": 9,
     "metadata": {},
     "output_type": "execute_result"
    }
   ],
   "source": [
    "c.data"
   ]
  }
 ],
 "metadata": {
  "kernelspec": {
   "display_name": "Python 3",
   "language": "python",
   "name": "python3"
  },
  "language_info": {
   "codemirror_mode": {
    "name": "ipython",
    "version": 3
   },
   "file_extension": ".py",
   "mimetype": "text/x-python",
   "name": "python",
   "nbconvert_exporter": "python",
   "pygments_lexer": "ipython3",
   "version": "3.9.5"
  }
 },
 "nbformat": 4,
 "nbformat_minor": 5
}
