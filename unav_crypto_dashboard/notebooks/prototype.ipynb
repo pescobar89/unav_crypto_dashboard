{
 "cells": [
  {
   "cell_type": "code",
   "execution_count": 1,
   "id": "b27531d5-c683-4393-a23b-8fccbfa33900",
   "metadata": {},
   "outputs": [],
   "source": [
    "import datetime as dt\n",
    "import time\n",
    "import re\n",
    "\n",
    "\n",
    "class Utils:\n",
    "    \n",
    "    def __init__(self):\n",
    "        pass\n",
    "    \n",
    "    @staticmethod\n",
    "    def date_formats(date):\n",
    "        # Comprobamos el formato de la fecha string de entrada\n",
    "#         pattern = re.compile(r'\\d{4}\\-[0-1]\\d\\-[0-3]\\d\\s[0-2]\\d\\:[0-5]\\d\\:[0-5]\\d') # Mejorable, quizas mejor hacerlo en la conversion a datetime\n",
    "        date_string = date\n",
    "        date_list = re.split('-| |:', date)\n",
    "        date_datetime = dt.datetime(*[int(x) for x in date_list], tzinfo=dt.timezone.utc) # Mirar meter un try/except\n",
    "        date_unix = int(time.mktime(date_datetime.timetuple()))\n",
    "        formats = {'string': date_string, 'list': date_list, 'datetime': date_datetime, 'unix': date_unix}\n",
    "        return(formats)"
   ]
  },
  {
   "cell_type": "code",
   "execution_count": 2,
   "id": "36fc6609-3d21-45fc-b521-74bc3917c2b2",
   "metadata": {},
   "outputs": [],
   "source": [
    "import krakenex\n",
    "from pykrakenapi import KrakenAPI\n",
    "# from ______ import Utils\n",
    "import numpy as np\n",
    "import time\n",
    "\n",
    "\n",
    "class Downloader:\n",
    "    \n",
    "    def __init__(self, API=KrakenAPI(krakenex.API())):\n",
    "        self.API = API\n",
    "        self.data = {}\n",
    "    \n",
    "    def download_split_historic(self, pair, dt_from):\n",
    "        # Obtenemos los 1000 registro desde la fecha indicada\n",
    "        trades, last = self.API.get_recent_trades(pair, dt_from)\n",
    "        # Ordenamos por fecha\n",
    "        trades = trades.sort_values('time', ascending=False)\n",
    "        trades = trades.reset_index()\n",
    "        # Obtenemos primero y ultimo\n",
    "        first = trades['time'].iloc[-1]\n",
    "        last = trades['time'].iloc[0]\n",
    "        return({'first': first, 'last': last, 'trades': trades})\n",
    "        \n",
    "    def download_fromto_historic(self, pair, dt_from, dt_to):\n",
    "        data_pair = []\n",
    "        # Inicializamos while para descargar fromto historico\n",
    "        from_dynamic = dt_from\n",
    "        while from_dynamic<=dt_to:\n",
    "            split = self.download_split_historic(pair, from_dynamic)\n",
    "            data_pair.append(split)\n",
    "            from_dynamic = split['last']\n",
    "            print('Descargado de '+str(split['trades']['dtime'].iloc[-1])+' a '+str(split['trades']['dtime'].iloc[0]))\n",
    "            # Dormimos la descarga\n",
    "            time.sleep(np.random.uniform(1,2))\n",
    "        # Guardamos el acumulado en el atributo de clase data\n",
    "        self.data[pair] = data_pair"
   ]
  },
  {
   "cell_type": "code",
   "execution_count": 3,
   "id": "00062fde-09cf-4962-abea-fa91d6e5ea0b",
   "metadata": {},
   "outputs": [],
   "source": [
    "import pandas as pd\n",
    "\n",
    "\n",
    "class Wrangler:\n",
    "    \n",
    "    def __init__(self):\n",
    "        pass\n",
    "    \n",
    "    def get_clean_data(self, raw_data):\n",
    "        clean_data = {}\n",
    "        # Iteramos sobre los pares en raw_data y consolidamos un dataframe\n",
    "        for k, v in raw_data.items():\n",
    "            pair_data = pd.concat([x['trades'] for x in v])\n",
    "            pair_data = pair_data.drop_duplicates()\n",
    "            pair_data = pair_data[['dtime', 'time', 'price', 'volume']]\n",
    "            pair_data = pair_data.sort_values('time', ascending=False)\n",
    "            clean_data[k] = pair_data\n",
    "        return(clean_data)"
   ]
  },
  {
   "cell_type": "code",
   "execution_count": 4,
   "id": "57a6d728-0f43-439b-8449-d8dec29e66fb",
   "metadata": {},
   "outputs": [],
   "source": [
    "class Calculator:\n",
    "    \n",
    "    def __init__(self, data):\n",
    "        self.data = {}\n",
    "        self.data['original'] = data\n",
    "\n",
    "    def compute_price(self, price='price', volume='volume', time=['dtime', 'time']):\n",
    "        price_data = self.data['original'].copy()\n",
    "        # Calculamos precio por volumen\n",
    "        price_data[price+'_x_'+volume] = price_data[price]*price_data[volume]\n",
    "        # Agregamos\n",
    "        pxv = price+'_x_'+volume\n",
    "        d = {volume: np.sum, pxv: np.sum}\n",
    "        price_data = price_data.groupby(time).agg(d)\n",
    "        # Recalculamos el precio\n",
    "        price_data[price] = price_data[pxv]/price_data[volume]\n",
    "        # Seleccionamos las variables\n",
    "        price_data = price_data[[price, volume]].reset_index()\n",
    "        # Guardamos\n",
    "        self.data['price'] = price_data       \n",
    "        \n",
    "    def compute_vwap(self, price='price', volume='volume', time=['dtime', 'time'], minutes_interval=15):\n",
    "        vwap_data = self.data['original'].copy()\n",
    "        # Generamos los bins \n",
    "        seconds = minutes_interval*60\n",
    "        min_period = floor(min(vwap_data['time']/s))*s-s\n",
    "        max_period = ceil(max(vwap_data['time']/s))*s+s\n",
    "        bins = list(range(min_period, max_period, s))\n",
    "        vwap_data['new_time'] = pd.cut(vwap_data[time[1]], bins=cuts)\n",
    "        # Calculamos precio por volumen\n",
    "        vwap_data[price+'_x_'+volume] = vwap_data[price]*vwap_data[volume]\n",
    "        # Agregamos\n",
    "        pxv = price+'_x_'+volume\n",
    "        d = {volume: np.sum, pxv: np.sum}\n",
    "        vwap_data = vwap_data.groupby('new_time').agg(d)\n",
    "        # Recalculamos el precio\n",
    "        vwap_data[price] = vwap_data[pxv]/vwap_data[volume]\n",
    "        # Reteamos indice y eliminamos nas\n",
    "        vwap_data = vwap_data[[price, volume]].reset_index()\n",
    "        # Formateamos la fecha\n",
    "        vwap_data['time'] = [int(x[-11:-1]) for x in vwap_data['new_time'].astype(str)]\n",
    "        vwap_data['dtime'] = [dt.datetime.utcfromtimestamp(x).strftime('%Y-%m-%d %H:%M:%S') for x in vwap_data['time']]\n",
    "        # Aseguramos el orden por fecha \n",
    "        vwap_data = vwap_data.sort_values('time', ascending=True)\n",
    "        # Rellenamos los precios vacios\n",
    "        vwap_data['price'] = vwap_data['price'].fillna(method='ffill')\n",
    "        vwap_data['price'] = vwap_data['price'].fillna(method='bfill')\n",
    "        # Ordenamos variables\n",
    "        vwap_data = vwap_data[time+[price, volume]]\n",
    "        # Guardamos\n",
    "        self.data['vwap'] = vwap_data"
   ]
  },
  {
   "cell_type": "code",
   "execution_count": 5,
   "id": "4478b70e-ba3d-45dd-91f9-e743e57c34e3",
   "metadata": {},
   "outputs": [],
   "source": [
    "# dt_from = '2020-11-01 01:25:17'\n",
    "# Utils.date_formats(dt_from)"
   ]
  },
  {
   "cell_type": "code",
   "execution_count": 6,
   "id": "f1c55a40-bc5c-4f0f-aea6-c3e2397fff85",
   "metadata": {},
   "outputs": [
    {
     "name": "stdout",
     "output_type": "stream",
     "text": [
      "Descargado de 2021-09-30 22:01:56.311099904 a 2021-10-01 10:29:18.337799936\n",
      "Descargado de 2021-10-01 10:29:18.098700032 a 2021-10-01 12:46:41.971399936\n",
      "Descargado de 2021-10-01 12:46:41.971399936 a 2021-10-02 14:47:49.193200128\n"
     ]
    }
   ],
   "source": [
    "pair = \"BCHUSD\"\n",
    "dt_from = Utils.date_formats('2021-10-01 00:00:00')\n",
    "dt_to = Utils.date_formats('2021-10-02 00:00:00')\n",
    "# Generamos los formatos para las fechas \n",
    "d = Downloader()\n",
    "# aux = d.download_split_historic(pair, dt_from['unix'])\n",
    "d.download_fromto_historic(pair, dt_from['unix'], dt_to['unix'])"
   ]
  },
  {
   "cell_type": "code",
   "execution_count": 7,
   "id": "c6409253-94a4-446a-9282-8972419a8335",
   "metadata": {},
   "outputs": [],
   "source": [
    "w = Wrangler()\n",
    "trades = w.get_clean_data(d.data)"
   ]
  },
  {
   "cell_type": "code",
   "execution_count": 8,
   "id": "770b75a6-c80c-40f6-a3ac-3d271431b04a",
   "metadata": {},
   "outputs": [
    {
     "ename": "NameError",
     "evalue": "name 'floor' is not defined",
     "output_type": "error",
     "traceback": [
      "\u001b[1;31m---------------------------------------------------------------------------\u001b[0m",
      "\u001b[1;31mNameError\u001b[0m                                 Traceback (most recent call last)",
      "\u001b[1;32m<ipython-input-8-c4e17e1443d0>\u001b[0m in \u001b[0;36m<module>\u001b[1;34m\u001b[0m\n\u001b[0;32m      1\u001b[0m \u001b[0mc\u001b[0m \u001b[1;33m=\u001b[0m \u001b[0mCalculator\u001b[0m\u001b[1;33m(\u001b[0m\u001b[0mtrades\u001b[0m\u001b[1;33m[\u001b[0m\u001b[0mpair\u001b[0m\u001b[1;33m]\u001b[0m\u001b[1;33m)\u001b[0m\u001b[1;33m\u001b[0m\u001b[1;33m\u001b[0m\u001b[0m\n\u001b[0;32m      2\u001b[0m \u001b[0mc\u001b[0m\u001b[1;33m.\u001b[0m\u001b[0mcompute_price\u001b[0m\u001b[1;33m(\u001b[0m\u001b[1;33m)\u001b[0m\u001b[1;33m\u001b[0m\u001b[1;33m\u001b[0m\u001b[0m\n\u001b[1;32m----> 3\u001b[1;33m \u001b[0mc\u001b[0m\u001b[1;33m.\u001b[0m\u001b[0mcompute_vwap\u001b[0m\u001b[1;33m(\u001b[0m\u001b[1;33m)\u001b[0m\u001b[1;33m\u001b[0m\u001b[1;33m\u001b[0m\u001b[0m\n\u001b[0m",
      "\u001b[1;32m<ipython-input-4-90c6d0f60356>\u001b[0m in \u001b[0;36mcompute_vwap\u001b[1;34m(self, price, volume, time, minutes_interval)\u001b[0m\n\u001b[0;32m     24\u001b[0m         \u001b[1;31m# Generamos los bins\u001b[0m\u001b[1;33m\u001b[0m\u001b[1;33m\u001b[0m\u001b[1;33m\u001b[0m\u001b[0m\n\u001b[0;32m     25\u001b[0m         \u001b[0mseconds\u001b[0m \u001b[1;33m=\u001b[0m \u001b[0mminutes_interval\u001b[0m\u001b[1;33m*\u001b[0m\u001b[1;36m60\u001b[0m\u001b[1;33m\u001b[0m\u001b[1;33m\u001b[0m\u001b[0m\n\u001b[1;32m---> 26\u001b[1;33m         \u001b[0mmin_period\u001b[0m \u001b[1;33m=\u001b[0m \u001b[0mfloor\u001b[0m\u001b[1;33m(\u001b[0m\u001b[0mmin\u001b[0m\u001b[1;33m(\u001b[0m\u001b[0mvwap_data\u001b[0m\u001b[1;33m[\u001b[0m\u001b[1;34m'time'\u001b[0m\u001b[1;33m]\u001b[0m\u001b[1;33m/\u001b[0m\u001b[0ms\u001b[0m\u001b[1;33m)\u001b[0m\u001b[1;33m)\u001b[0m\u001b[1;33m*\u001b[0m\u001b[0ms\u001b[0m\u001b[1;33m-\u001b[0m\u001b[0ms\u001b[0m\u001b[1;33m\u001b[0m\u001b[1;33m\u001b[0m\u001b[0m\n\u001b[0m\u001b[0;32m     27\u001b[0m         \u001b[0mmax_period\u001b[0m \u001b[1;33m=\u001b[0m \u001b[0mceil\u001b[0m\u001b[1;33m(\u001b[0m\u001b[0mmax\u001b[0m\u001b[1;33m(\u001b[0m\u001b[0mvwap_data\u001b[0m\u001b[1;33m[\u001b[0m\u001b[1;34m'time'\u001b[0m\u001b[1;33m]\u001b[0m\u001b[1;33m/\u001b[0m\u001b[0ms\u001b[0m\u001b[1;33m)\u001b[0m\u001b[1;33m)\u001b[0m\u001b[1;33m*\u001b[0m\u001b[0ms\u001b[0m\u001b[1;33m+\u001b[0m\u001b[0ms\u001b[0m\u001b[1;33m\u001b[0m\u001b[1;33m\u001b[0m\u001b[0m\n\u001b[0;32m     28\u001b[0m         \u001b[0mbins\u001b[0m \u001b[1;33m=\u001b[0m \u001b[0mlist\u001b[0m\u001b[1;33m(\u001b[0m\u001b[0mrange\u001b[0m\u001b[1;33m(\u001b[0m\u001b[0mmin_period\u001b[0m\u001b[1;33m,\u001b[0m \u001b[0mmax_period\u001b[0m\u001b[1;33m,\u001b[0m \u001b[0ms\u001b[0m\u001b[1;33m)\u001b[0m\u001b[1;33m)\u001b[0m\u001b[1;33m\u001b[0m\u001b[1;33m\u001b[0m\u001b[0m\n",
      "\u001b[1;31mNameError\u001b[0m: name 'floor' is not defined"
     ]
    }
   ],
   "source": [
    "c = Calculator(trades[pair])\n",
    "c.compute_price()\n",
    "c.compute_vwap()"
   ]
  },
  {
   "cell_type": "code",
   "execution_count": null,
   "id": "c0f2d6d4-4977-459f-b6f8-7f0e8aee670b",
   "metadata": {},
   "outputs": [],
   "source": [
    "c.data"
   ]
  },
  {
   "cell_type": "code",
   "execution_count": null,
   "id": "cc7cac47-2d44-4f10-b713-64770e0b5c23",
   "metadata": {},
   "outputs": [],
   "source": []
  }
 ],
 "metadata": {
  "kernelspec": {
   "display_name": "Python 3",
   "language": "python",
   "name": "python3"
  },
  "language_info": {
   "codemirror_mode": {
    "name": "ipython",
    "version": 3
   },
   "file_extension": ".py",
   "mimetype": "text/x-python",
   "name": "python",
   "nbconvert_exporter": "python",
   "pygments_lexer": "ipython3",
   "version": "3.9.5"
  }
 },
 "nbformat": 4,
 "nbformat_minor": 5
}
