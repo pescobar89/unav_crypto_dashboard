{
 "cells": [
  {
   "cell_type": "code",
   "execution_count": 53,
   "id": "b27531d5-c683-4393-a23b-8fccbfa33900",
   "metadata": {},
   "outputs": [],
   "source": [
    "import datetime as dt\n",
    "import time\n",
    "import re\n",
    "\n",
    "\n",
    "class Utils:\n",
    "    \n",
    "    def __init__(self):\n",
    "        pass\n",
    "    \n",
    "    @staticmethod\n",
    "    def date_formats(date):\n",
    "        # Comprobamos el formato de la fecha string de entrada\n",
    "#         pattern = re.compile(r'\\d{4}\\-[0-1]\\d\\-[0-3]\\d\\s[0-2]\\d\\:[0-5]\\d\\:[0-5]\\d') # Mejorable, quizas mejor hacerlo en la conversion a datetime\n",
    "        date_string = date\n",
    "        date_list = re.split('-| |:', date)\n",
    "        date_datetime = dt.datetime(*[int(x) for x in date_list], tzinfo=dt.timezone.utc) # Mirar meter un try/except\n",
    "        date_unix = int(time.mktime(date_datetime.timetuple()))\n",
    "        formats = {'string': date_string, 'list': date_list, 'datetime': date_datetime, 'unix': date_unix}\n",
    "        return(formats)"
   ]
  },
  {
   "cell_type": "code",
   "execution_count": 54,
   "id": "36fc6609-3d21-45fc-b521-74bc3917c2b2",
   "metadata": {},
   "outputs": [],
   "source": [
    "import krakenex\n",
    "from pykrakenapi import KrakenAPI\n",
    "# from ______ import Utils\n",
    "import numpy as np\n",
    "import time\n",
    "\n",
    "\n",
    "class Downloader:\n",
    "    \n",
    "    def __init__(self, API=KrakenAPI(krakenex.API())):\n",
    "        self.API = API\n",
    "        self.data = {}\n",
    "    \n",
    "    def download_split_historic(self, pair, dt_from):\n",
    "        # Obtenemos los 1000 registro desde la fecha indicada\n",
    "        trades, last = self.API.get_recent_trades(pair, dt_from)\n",
    "        # Ordenamos por fecha\n",
    "        trades = trades.sort_values('time', ascending=False)\n",
    "        trades = trades.reset_index()\n",
    "        # Obtenemos primero y ultimo\n",
    "        first = trades['time'].iloc[-1]\n",
    "        last = trades['time'].iloc[0]\n",
    "        return({'first': first, 'last': last, 'trades': trades})\n",
    "        \n",
    "    def download_fromto_historic(self, pair, dt_from, dt_to):\n",
    "        data_pair = []\n",
    "        # Inicializamos while para descargar fromto historico\n",
    "        from_dynamic = dt_from\n",
    "        while from_dynamic<=dt_to:\n",
    "            split = self.download_split_historic(pair, from_dynamic)\n",
    "            data_pair.append(split)\n",
    "            from_dynamic = split['last']\n",
    "            print('Descargado de '+str(split['trades']['dtime'].iloc[-1])+' a '+str(split['trades']['dtime'].iloc[0]))\n",
    "            # Dormimos la descarga\n",
    "            time.sleep(np.random.uniform(1,2))\n",
    "        # Guardamos el acumulado en el atributo de clase data\n",
    "        self.data[pair] = data_pair"
   ]
  },
  {
   "cell_type": "code",
   "execution_count": 55,
   "id": "00062fde-09cf-4962-abea-fa91d6e5ea0b",
   "metadata": {},
   "outputs": [],
   "source": [
    "import pandas as pd\n",
    "\n",
    "\n",
    "class Wrangler:\n",
    "    \n",
    "    def __init__(self):\n",
    "        pass\n",
    "    \n",
    "    def get_clean_data(self, raw_data):\n",
    "        clean_data = {}\n",
    "        # Iteramos sobre los pares en raw_data y consolidamos un dataframe\n",
    "        for k, v in raw_data.items():\n",
    "            pair_data = pd.concat([x['trades'] for x in v])\n",
    "            pair_data = pair_data.drop_duplicates()\n",
    "            pair_data = pair_data[['dtime', 'time', 'price', 'volume']]\n",
    "            pair_data = pair_data.sort_values('time', ascending=False)\n",
    "            clean_data[k] = pair_data\n",
    "        return(clean_data)"
   ]
  },
  {
   "cell_type": "code",
   "execution_count": 214,
   "id": "57a6d728-0f43-439b-8449-d8dec29e66fb",
   "metadata": {},
   "outputs": [],
   "source": [
    "class Calculator:\n",
    "    \n",
    "    def __init__(self, data):\n",
    "        self.data = {}\n",
    "        self.data['original'] = data\n",
    "\n",
    "    def compute_price(self, price='price', volume='volume', time=['dtime', 'time']):\n",
    "        price_data = self.data['original'].copy()\n",
    "        # Calculamos precio por volumen\n",
    "        price_data[price+'_x_'+volume] = price_data[price]*price_data[volume]\n",
    "        # Agregamos\n",
    "        pxv = price+'_x_'+volume\n",
    "        d = {volume: np.sum, pxv: np.sum}\n",
    "        price_data = price_data.groupby(time).agg(d)\n",
    "        # Recalculamos el precio\n",
    "        price_data[price] = price_data[pxv]/price_data[volume]\n",
    "        # Seleccionamos las variables\n",
    "        price_data = price_data[[price, volume]].reset_index()\n",
    "        # Guardamos\n",
    "        self.data['price'] = price_data       \n",
    "        \n",
    "    def compute_vwap(self, price='price', volume='volume', time=['dtime', 'time'], minutes_interval=15):\n",
    "        vwap_data = self.data['original'].copy()\n",
    "        # Generamos los bins \n",
    "        seconds = minutes_interval*60\n",
    "        min_period = floor(min(vwap_data['time']/s))*s-s\n",
    "        max_period = ceil(max(vwap_data['time']/s))*s+s\n",
    "        bins = list(range(min_period, max_period, s))\n",
    "        vwap_data['new_time'] = pd.cut(vwap_data[time[1]], bins=cuts)\n",
    "        # Calculamos precio por volumen\n",
    "        vwap_data[price+'_x_'+volume] = vwap_data[price]*vwap_data[volume]\n",
    "        # Agregamos\n",
    "        pxv = price+'_x_'+volume\n",
    "        d = {volume: np.sum, pxv: np.sum}\n",
    "        vwap_data = vwap_data.groupby('new_time').agg(d)\n",
    "        # Recalculamos el precio\n",
    "        vwap_data[price] = vwap_data[pxv]/vwap_data[volume]\n",
    "        # Reteamos indice y eliminamos nas\n",
    "        vwap_data = vwap_data[[price, volume]].reset_index()\n",
    "        # Formateamos la fecha\n",
    "        vwap_data['time'] = [int(x[-11:-1]) for x in vwap_data['new_time'].astype(str)]\n",
    "        vwap_data['dtime'] = [dt.datetime.utcfromtimestamp(x).strftime('%Y-%m-%d %H:%M:%S') for x in vwap_data['time']]\n",
    "        # Aseguramos el orden por fecha \n",
    "        vwap_data = vwap_data.sort_values('time', ascending=True)\n",
    "        # Rellenamos los precios vacios\n",
    "        vwap_data['price'] = vwap_data['price'].fillna(method='ffill')\n",
    "        vwap_data['price'] = vwap_data['price'].fillna(method='bfill')\n",
    "        # Ordenamos variables\n",
    "        vwap_data = vwap_data[time+[price, volume]]\n",
    "        # Guardamos\n",
    "        self.data['vwap'] = vwap_data"
   ]
  },
  {
   "cell_type": "code",
   "execution_count": 215,
   "id": "4478b70e-ba3d-45dd-91f9-e743e57c34e3",
   "metadata": {},
   "outputs": [],
   "source": [
    "# dt_from = '2020-11-01 01:25:17'\n",
    "# Utils.date_formats(dt_from)"
   ]
  },
  {
   "cell_type": "code",
   "execution_count": 283,
   "id": "f1c55a40-bc5c-4f0f-aea6-c3e2397fff85",
   "metadata": {},
   "outputs": [
    {
     "name": "stdout",
     "output_type": "stream",
     "text": [
      "Descargado de 2021-09-30 22:01:56.311099904 a 2021-10-01 10:29:18.337799936\n",
      "Descargado de 2021-10-01 10:29:18.098700032 a 2021-10-01 12:46:41.971399936\n",
      "Descargado de 2021-10-01 12:46:41.971399936 a 2021-10-02 14:47:49.193200128\n"
     ]
    }
   ],
   "source": [
    "pair = \"BCHUSD\"\n",
    "dt_from = Utils.date_formats('2021-10-01 00:00:00')\n",
    "dt_to = Utils.date_formats('2021-10-02 00:00:00')\n",
    "# Generamos los formatos para las fechas \n",
    "d = Downloader()\n",
    "# aux = d.download_split_historic(pair, dt_from['unix'])\n",
    "d.download_fromto_historic(pair, dt_from['unix'], dt_to['unix'])"
   ]
  },
  {
   "cell_type": "code",
   "execution_count": 291,
   "id": "c6409253-94a4-446a-9282-8972419a8335",
   "metadata": {},
   "outputs": [],
   "source": [
    "w = Wrangler()\n",
    "trades = w.get_clean_data(d.data)"
   ]
  },
  {
   "cell_type": "code",
   "execution_count": 225,
   "id": "770b75a6-c80c-40f6-a3ac-3d271431b04a",
   "metadata": {},
   "outputs": [
    {
     "data": {
      "text/html": [
       "<div>\n",
       "<style scoped>\n",
       "    .dataframe tbody tr th:only-of-type {\n",
       "        vertical-align: middle;\n",
       "    }\n",
       "\n",
       "    .dataframe tbody tr th {\n",
       "        vertical-align: top;\n",
       "    }\n",
       "\n",
       "    .dataframe thead th {\n",
       "        text-align: right;\n",
       "    }\n",
       "</style>\n",
       "<table border=\"1\" class=\"dataframe\">\n",
       "  <thead>\n",
       "    <tr style=\"text-align: right;\">\n",
       "      <th></th>\n",
       "      <th>dtime</th>\n",
       "      <th>time</th>\n",
       "      <th>price</th>\n",
       "      <th>volume</th>\n",
       "    </tr>\n",
       "  </thead>\n",
       "  <tbody>\n",
       "    <tr>\n",
       "      <th>0</th>\n",
       "      <td>2021-09-30 22:01:00</td>\n",
       "      <td>1633039260</td>\n",
       "      <td>38998.8</td>\n",
       "      <td>0.0</td>\n",
       "    </tr>\n",
       "    <tr>\n",
       "      <th>1</th>\n",
       "      <td>2021-09-30 22:02:00</td>\n",
       "      <td>1633039320</td>\n",
       "      <td>38998.8</td>\n",
       "      <td>0.0</td>\n",
       "    </tr>\n",
       "    <tr>\n",
       "      <th>2</th>\n",
       "      <td>2021-09-30 22:03:00</td>\n",
       "      <td>1633039380</td>\n",
       "      <td>38998.8</td>\n",
       "      <td>0.0</td>\n",
       "    </tr>\n",
       "    <tr>\n",
       "      <th>3</th>\n",
       "      <td>2021-09-30 22:04:00</td>\n",
       "      <td>1633039440</td>\n",
       "      <td>38998.8</td>\n",
       "      <td>0.0</td>\n",
       "    </tr>\n",
       "    <tr>\n",
       "      <th>4</th>\n",
       "      <td>2021-09-30 22:05:00</td>\n",
       "      <td>1633039500</td>\n",
       "      <td>38998.8</td>\n",
       "      <td>0.0</td>\n",
       "    </tr>\n",
       "    <tr>\n",
       "      <th>...</th>\n",
       "      <td>...</td>\n",
       "      <td>...</td>\n",
       "      <td>...</td>\n",
       "      <td>...</td>\n",
       "    </tr>\n",
       "    <tr>\n",
       "      <th>5872</th>\n",
       "      <td>2021-10-04 23:53:00</td>\n",
       "      <td>1633391580</td>\n",
       "      <td>41133.0</td>\n",
       "      <td>0.0</td>\n",
       "    </tr>\n",
       "    <tr>\n",
       "      <th>5873</th>\n",
       "      <td>2021-10-04 23:54:00</td>\n",
       "      <td>1633391640</td>\n",
       "      <td>41133.0</td>\n",
       "      <td>0.0</td>\n",
       "    </tr>\n",
       "    <tr>\n",
       "      <th>5874</th>\n",
       "      <td>2021-10-04 23:55:00</td>\n",
       "      <td>1633391700</td>\n",
       "      <td>41133.0</td>\n",
       "      <td>0.0</td>\n",
       "    </tr>\n",
       "    <tr>\n",
       "      <th>5875</th>\n",
       "      <td>2021-10-04 23:56:00</td>\n",
       "      <td>1633391760</td>\n",
       "      <td>41133.0</td>\n",
       "      <td>0.0</td>\n",
       "    </tr>\n",
       "    <tr>\n",
       "      <th>5876</th>\n",
       "      <td>2021-10-04 23:57:00</td>\n",
       "      <td>1633391820</td>\n",
       "      <td>41133.0</td>\n",
       "      <td>0.0</td>\n",
       "    </tr>\n",
       "  </tbody>\n",
       "</table>\n",
       "<p>5877 rows × 4 columns</p>\n",
       "</div>"
      ],
      "text/plain": [
       "                    dtime        time    price  volume\n",
       "0     2021-09-30 22:01:00  1633039260  38998.8     0.0\n",
       "1     2021-09-30 22:02:00  1633039320  38998.8     0.0\n",
       "2     2021-09-30 22:03:00  1633039380  38998.8     0.0\n",
       "3     2021-09-30 22:04:00  1633039440  38998.8     0.0\n",
       "4     2021-09-30 22:05:00  1633039500  38998.8     0.0\n",
       "...                   ...         ...      ...     ...\n",
       "5872  2021-10-04 23:53:00  1633391580  41133.0     0.0\n",
       "5873  2021-10-04 23:54:00  1633391640  41133.0     0.0\n",
       "5874  2021-10-04 23:55:00  1633391700  41133.0     0.0\n",
       "5875  2021-10-04 23:56:00  1633391760  41133.0     0.0\n",
       "5876  2021-10-04 23:57:00  1633391820  41133.0     0.0\n",
       "\n",
       "[5877 rows x 4 columns]"
      ]
     },
     "execution_count": 225,
     "metadata": {},
     "output_type": "execute_result"
    }
   ],
   "source": [
    "c = Calculator(trades)\n",
    "c.compute_price()\n",
    "c.compute_vwap()\n",
    "c.data['vwap']"
   ]
  },
  {
   "cell_type": "code",
   "execution_count": 220,
   "id": "7393723c-9ba2-4af3-af69-cfcc47cc706d",
   "metadata": {},
   "outputs": [],
   "source": [
    "api = KrakenAPI(krakenex.API())"
   ]
  },
  {
   "cell_type": "code",
   "execution_count": 227,
   "id": "7be4378b-3c58-4756-89a1-ea51d0baec2b",
   "metadata": {},
   "outputs": [],
   "source": [
    "df = api.get_tradable_asset_pairs()"
   ]
  },
  {
   "cell_type": "code",
   "execution_count": 240,
   "id": "0f9d6bef-4153-4649-beef-683e7f6eef83",
   "metadata": {},
   "outputs": [],
   "source": [
    "pd.set_option('display.max_rows', None)"
   ]
  },
  {
   "cell_type": "code",
   "execution_count": 245,
   "id": "4090f207-8a8b-4b8e-a6c3-12ad1927b4ff",
   "metadata": {},
   "outputs": [
    {
     "data": {
      "text/plain": [
       "datetime.datetime(2021, 12, 7, 18, 44, 45, 700162)"
      ]
     },
     "execution_count": 245,
     "metadata": {},
     "output_type": "execute_result"
    }
   ],
   "source": [
    "dt.datetime.today()"
   ]
  },
  {
   "cell_type": "code",
   "execution_count": 244,
   "id": "233f6091-6b16-4a4d-81c1-70cdbd1faf71",
   "metadata": {},
   "outputs": [
    {
     "ename": "AttributeError",
     "evalue": "type object 'datetime.date' has no attribute 'now'",
     "output_type": "error",
     "traceback": [
      "\u001b[1;31m---------------------------------------------------------------------------\u001b[0m",
      "\u001b[1;31mAttributeError\u001b[0m                            Traceback (most recent call last)",
      "\u001b[1;32m<ipython-input-244-7ba17f83f01d>\u001b[0m in \u001b[0;36m<module>\u001b[1;34m\u001b[0m\n\u001b[1;32m----> 1\u001b[1;33m \u001b[0mdt\u001b[0m\u001b[1;33m.\u001b[0m\u001b[0mdate\u001b[0m\u001b[1;33m.\u001b[0m\u001b[0mnow\u001b[0m\u001b[1;33m(\u001b[0m\u001b[1;33m)\u001b[0m\u001b[1;33m\u001b[0m\u001b[1;33m\u001b[0m\u001b[0m\n\u001b[0m",
      "\u001b[1;31mAttributeError\u001b[0m: type object 'datetime.date' has no attribute 'now'"
     ]
    }
   ],
   "source": [
    "dt.date.now()"
   ]
  },
  {
   "cell_type": "code",
   "execution_count": null,
   "id": "f45b14bf-495a-4de5-ac69-c56054cafd63",
   "metadata": {},
   "outputs": [],
   "source": []
  },
  {
   "cell_type": "code",
   "execution_count": 265,
   "id": "77a24d1d-cfa7-4566-bb75-4449f5ad5be4",
   "metadata": {},
   "outputs": [
    {
     "data": {
      "text/plain": [
       "'1INCHEUR'"
      ]
     },
     "execution_count": 265,
     "metadata": {},
     "output_type": "execute_result"
    }
   ],
   "source": [
    "df[df['wsname']=='1INCH/EUR']['altname'].iloc[0]"
   ]
  },
  {
   "cell_type": "code",
   "execution_count": null,
   "id": "f972149f-6b02-4ee9-a5ce-60c6f0b7bf1d",
   "metadata": {},
   "outputs": [],
   "source": []
  },
  {
   "cell_type": "code",
   "execution_count": 284,
   "id": "383279f6-0574-4f78-9e82-e44d04407365",
   "metadata": {},
   "outputs": [],
   "source": [
    "x = []"
   ]
  },
  {
   "cell_type": "code",
   "execution_count": 285,
   "id": "b08a1a8e-4f5a-4301-aeae-6ea0fe6b3703",
   "metadata": {},
   "outputs": [],
   "source": [
    "x.append('algo')"
   ]
  },
  {
   "cell_type": "code",
   "execution_count": 286,
   "id": "e4035aa1-7e06-42a2-8dcf-bd00fa631162",
   "metadata": {},
   "outputs": [
    {
     "data": {
      "text/plain": [
       "['algo']"
      ]
     },
     "execution_count": 286,
     "metadata": {},
     "output_type": "execute_result"
    }
   ],
   "source": [
    "x"
   ]
  },
  {
   "cell_type": "code",
   "execution_count": 296,
   "id": "abbe41a3-2c5f-4238-b2c7-76c1e7457092",
   "metadata": {},
   "outputs": [
    {
     "data": {
      "text/plain": [
       "3.0"
      ]
     },
     "execution_count": 296,
     "metadata": {},
     "output_type": "execute_result"
    }
   ],
   "source": [
    "np.ceil(2.0004165416354)"
   ]
  },
  {
   "cell_type": "code",
   "execution_count": null,
   "id": "c0f2d6d4-4977-459f-b6f8-7f0e8aee670b",
   "metadata": {},
   "outputs": [],
   "source": []
  }
 ],
 "metadata": {
  "kernelspec": {
   "display_name": "Python 3",
   "language": "python",
   "name": "python3"
  },
  "language_info": {
   "codemirror_mode": {
    "name": "ipython",
    "version": 3
   },
   "file_extension": ".py",
   "mimetype": "text/x-python",
   "name": "python",
   "nbconvert_exporter": "python",
   "pygments_lexer": "ipython3",
   "version": "3.9.5"
  }
 },
 "nbformat": 4,
 "nbformat_minor": 5
}
