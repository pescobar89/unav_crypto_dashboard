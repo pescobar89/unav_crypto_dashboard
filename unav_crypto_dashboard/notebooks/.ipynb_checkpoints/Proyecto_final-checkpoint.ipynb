{
 "cells": [
  {
   "cell_type": "markdown",
   "metadata": {
    "id": "QQM7oRc6eMui"
   },
   "source": [
    "# Python para el análisis de datos -  UNAV 2020-2021\n",
    "---\n",
    "\n",
    "# Proyecto Final"
   ]
  },
  {
   "cell_type": "markdown",
   "metadata": {
    "id": "4JTD7SzHeMu-"
   },
   "source": [
    "Este año, la nota final se evaluará teniendo en cuenta un pequeño proyecto.\n",
    "\n",
    "El proyecto consistirá en ser capaces de bajar la cotización de un par de monedas, un ejemplo de cotizaciones en Kraken:\n",
    "https://www.kraken.com/es-es/prices?quote=EUR\n",
    "\n",
    "Después de bajarlas, será necesario hacer una gráfica del movimiento que ha tenido.\n",
    "\n",
    "Además, se hará una gráfica del VWAP:\n",
    "https://www.rankia.com/blog/bolsa-desde-cero/4279449-que-como-utiliza-vwap\n",
    "\n",
    "La entrega final consistirá como mínimo en una memoria escrita y un fichero de python disponible para ejecutar directamente con Spider, Pycharm o similares. \n",
    "\n",
    "Puntos mínimos:\n",
    "\n",
    "- Lectura y representación del movimiento del par de monedas - Máximo (4 puntos)\n",
    "    - Descargar datos. Máximo (2 puntos)  \n",
    "        - Utilizando la librería Kraken (2 puntos).\n",
    "          https://github.com/veox/python3-krakenex\n",
    "        - Utilizando descarga directa a través de Pandas (1 punto).\n",
    "          https://drive.google.com/uc?id=1eQsiD8Z8wEt1mx9VICzCmIEQufWjaUD-\n",
    "        - Descargar directamente y utilizar el csv en local (0 puntos).\n",
    "    - Graficar cotizaciones. Máximo (2 puntos).\n",
    "        - Graficar el par BTC/USDT (1 punto).\n",
    "        - Input de usuario que permita graficar cualquier cotización o una a elegir en el menú (2 puntos).\n",
    "\n",
    "- VWAP. Máximo (3 puntos).\n",
    "    - Calcular el VWAP y graficarlo (2 puntos).\n",
    "    - Graficar el VWAP junto con la cotización del par calculado (1 punto).\n",
    "    - Calcular el VWAP utilizando intervalos temporales (1 punto).\n",
    "\n",
    "- Estructuración. Máximo (1 punto)\n",
    "    - Funciones (0,5 puntos)\n",
    "    - Utilización de clases (0,5 puntos)\n",
    "    - Manejo de errores y excepciones (0,5 puntos)\n",
    "\n",
    "- Memoria obligatoria. Máximo (2 puntos).\n",
    "  Este documento deberá ser subido a ADI y deberá tener todo lo necesario para comprender el alcance del proyecto y su modo de ejecución.\n",
    "\n",
    "- Puntación Extra. Máximo (1 punto)\n",
    "    - Testeo y cobertura (unit-testing, integration-testing) 0,25 puntos\n",
    "    - Facilitar los mecanismos para la reproducción del entorno virtual (ya sea con Poetry, Pipenv o pip) 0,25 puntos\n",
    "    - Linting y Formatting (adhesión al estandar PEP-8) 0,25 puntos\n",
    "    - Distribución del proyecto a través de PyPi o una plataforma PaaS (AWS, Heroku, etc) 0,25 puntos\n",
    "\n",
    "La plazo de entrega finalizará el 10 de diciembre a las 23:59."
   ]
  }
 ],
 "metadata": {
  "colab": {
   "name": "Proyecto_final.ipynb",
   "provenance": []
  },
  "kernelspec": {
   "display_name": "Python 3",
   "language": "python",
   "name": "python3"
  },
  "language_info": {
   "codemirror_mode": {
    "name": "ipython",
    "version": 3
   },
   "file_extension": ".py",
   "mimetype": "text/x-python",
   "name": "python",
   "nbconvert_exporter": "python",
   "pygments_lexer": "ipython3",
   "version": "3.9.5"
  }
 },
 "nbformat": 4,
 "nbformat_minor": 4
}
